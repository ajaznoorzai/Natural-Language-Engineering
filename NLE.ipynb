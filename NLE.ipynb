{
  "cells": [
    {
      "cell_type": "markdown",
      "metadata": {
        "id": "f2S8I2ny-ovS"
      },
      "source": [
        "# NLE Assignment: Sentiment Classification\n",
        "\n",
        "In this assignment, you will be investigating NLP methods for distinguishing positive and negative reviews written about movies.\n",
        "\n",
        "For assessment, you are expected to complete and submit this notebook file.  When answers require code, you may import and use library functions (unless explicitly told otherwise).  All of your own code should be included in the notebook rather than imported from elsewhere.  Written answers should also be included in the notebook.  You should insert as many extra cells as you want and change the type between code and markdown as appropriate.\n",
        "\n",
        "In order to avoid misconduct, you should not talk about the assignment questions with your peers.  If you are not sure what a question is asking you to do or have any other questions, please ask me or one of the Teaching Assistants.\n",
        "\n",
        "Marking guidelines are provided as a separate document.\n",
        "\n",
        "The first few cells contain code to set-up the assignment and bring in some data.   In order to provide unique datasets for analysis by different students, you must enter your candidate number in the following cell.  Otherwise do not change the code in these cells."
      ]
    },
    {
      "cell_type": "code",
      "execution_count": null,
      "metadata": {
        "id": "1gXQAZas-l9c"
      },
      "outputs": [],
      "source": [
        "candidateno= #this MUST be updated to your candidate number so that you get a unique data sample\n"
      ]
    },
    {
      "cell_type": "code",
      "execution_count": null,
      "metadata": {
        "id": "nk8JTP88A8vs",
        "colab": {
          "base_uri": "https://localhost:8080/"
        },
        "outputId": "757aeab2-7a26-4d38-e5f2-c498c8ea83ec"
      },
      "outputs": [
        {
          "output_type": "stream",
          "name": "stderr",
          "text": [
            "[nltk_data] Downloading package punkt to /root/nltk_data...\n",
            "[nltk_data]   Package punkt is already up-to-date!\n",
            "[nltk_data] Downloading package stopwords to /root/nltk_data...\n",
            "[nltk_data]   Package stopwords is already up-to-date!\n",
            "[nltk_data] Downloading package movie_reviews to /root/nltk_data...\n",
            "[nltk_data]   Package movie_reviews is already up-to-date!\n"
          ]
        }
      ],
      "source": [
        "#do not change the code in this cell\n",
        "#preliminary imports\n",
        "\n",
        "#set up nltk\n",
        "import nltk\n",
        "nltk.download('punkt')\n",
        "nltk.download('stopwords')\n",
        "nltk.download('movie_reviews')\n",
        "from nltk.corpus import stopwords\n",
        "from nltk.tokenize import word_tokenize\n",
        "from nltk.corpus import movie_reviews\n",
        "\n",
        "#for setting up training and testing data\n",
        "import random\n",
        "\n",
        "#useful other tools\n",
        "import re\n",
        "import pandas as pd\n",
        "import matplotlib.pyplot as plt\n",
        "%matplotlib inline\n",
        "from itertools import zip_longest\n",
        "from nltk.probability import FreqDist\n",
        "from nltk.classify.api import ClassifierI\n"
      ]
    },
    {
      "cell_type": "code",
      "execution_count": null,
      "metadata": {
        "id": "BHBkzAccCVaZ"
      },
      "outputs": [],
      "source": [
        "#do not change the code in this cell\n",
        "def split_data(data, ratio=0.7): # when the second argument is not given, it defaults to 0.7\n",
        "    \"\"\"\n",
        "    Given corpus generator and ratio:\n",
        "     - partitions the corpus into training data and test data, where the proportion in train is ratio,\n",
        "\n",
        "    :param data: A corpus generator.\n",
        "    :param ratio: The proportion of training documents (default 0.7)\n",
        "    :return: a pair (tuple) of lists where the first element of the \n",
        "            pair is a list of the training data and the second is a list of the test data.\n",
        "    \"\"\"\n",
        "    \n",
        "    data = list(data)  \n",
        "    n = len(data)  \n",
        "    train_indices = random.sample(range(n), int(n * ratio))          \n",
        "    test_indices = list(set(range(n)) - set(train_indices))    \n",
        "    train = [data[i] for i in train_indices]           \n",
        "    test = [data[i] for i in test_indices]             \n",
        "    return (train, test)                       \n",
        " \n",
        "\n",
        "def get_train_test_data():\n",
        "    \n",
        "    #get ids of positive and negative movie reviews\n",
        "    pos_review_ids=movie_reviews.fileids('pos')\n",
        "    neg_review_ids=movie_reviews.fileids('neg')\n",
        "   \n",
        "    #split positive and negative data into training and testing sets\n",
        "    pos_train_ids, pos_test_ids = split_data(pos_review_ids)\n",
        "    neg_train_ids, neg_test_ids = split_data(neg_review_ids)\n",
        "    #add labels to the data and concatenate\n",
        "    training = [(movie_reviews.words(f),'pos') for f in pos_train_ids]+[(movie_reviews.words(f),'neg') for f in neg_train_ids]\n",
        "    testing = [(movie_reviews.words(f),'pos') for f in pos_test_ids]+[(movie_reviews.words(f),'neg') for f in neg_test_ids]\n",
        "   \n",
        "    return training, testing"
      ]
    },
    {
      "cell_type": "markdown",
      "metadata": {
        "id": "1N3LWwBYICPP"
      },
      "source": [
        "When you have run the cell below, your unique training and testing samples will be stored in `training_data` and `testing_data`"
      ]
    },
    {
      "cell_type": "code",
      "execution_count": null,
      "metadata": {
        "id": "HJLegkdPFUJA",
        "colab": {
          "base_uri": "https://localhost:8080/"
        },
        "outputId": "84476488-e154-4623-f9c6-403667050bbf"
      },
      "outputs": [
        {
          "output_type": "stream",
          "name": "stdout",
          "text": [
            "The amount of training data is 1400\n",
            "The amount of testing data is 600\n",
            "The representation of a single data item is below\n",
            "(['i', 'must', 'admit', 'i', \"'\", 'm', 'going', 'to', ...], 'pos')\n"
          ]
        }
      ],
      "source": [
        "#do not change the code in this cell\n",
        "random.seed(candidateno)\n",
        "training_data,testing_data=get_train_test_data()\n",
        "print(\"The amount of training data is {}\".format(len(training_data)))\n",
        "print(\"The amount of testing data is {}\".format(len(testing_data)))\n",
        "print(\"The representation of a single data item is below\")\n",
        "print(training_data[0])"
      ]
    },
    {
      "cell_type": "markdown",
      "metadata": {
        "id": "VE3bKQbB50Rq"
      },
      "source": [
        "1)  \n",
        "a) **Generate** a list of 10 content words which are representative of the positive reviews in your training data.\n",
        "\n",
        "b) **Generate** a list of 10 content words which are representative of the negative reviews in your training data.\n",
        "\n",
        "c) **Explain** what you have done and why\n",
        "\n",
        "[20\\%]"
      ]
    },
    {
      "cell_type": "code",
      "execution_count": null,
      "metadata": {
        "id": "QkT9CWv250Rq"
      },
      "outputs": [],
      "source": [
        "def freq_dist(data):\n",
        "    freq_dist = FreqDist()\n",
        "    for review, label in data:\n",
        "        freq_dist += review\n",
        "    return freq_dist\n",
        "\n",
        "def most_frequent_words(freq_dist_1, freq_dist_2, k):\n",
        "    diff = freq_dist_1 - freq_dist_2\n",
        "    return list(dict(diff.most_common(k)).keys())\n",
        "\n",
        "#def above_threshold(freq_dist_1, freq_dist_2, k):  sef ref (Note)  got this as part of my experiment not part if the question  \n",
        "#    diff = freq_dist_1 - freq_dist_2\n",
        "#    return [i for i, j in dict(diff.most_common()).items() if j > k]\n",
        "    \n",
        "def normalized_list(data, tag):\n",
        "    if tag != '':\n",
        "        words_norm = [([j for j in i[0] if j.isalpha() and j not in stopwords.words('english')], i[1]) for i in data if i[1] == tag]\n",
        "        bag_of_words = [(FreqDist(i[0]), i[1]) for i in words_norm]\n",
        "    else:\n",
        "        words_norm = [([j for j in i[0] if j.isalpha() and j not in stopwords.words('english')], i[1]) for i in data]\n",
        "        bag_of_words = [(FreqDist(i[0]), i[1]) for i in words_norm]\n",
        "    return bag_of_words"
      ]
    },
    {
      "cell_type": "code",
      "execution_count": null,
      "metadata": {
        "id": "GQBi7JVR50Rr"
      },
      "outputs": [],
      "source": [
        "training_pos_freq = normalized_list(training_data, \"pos\")\n",
        "training_neg_freq = normalized_list(training_data, \"neg\")"
      ]
    },
    {
      "cell_type": "code",
      "execution_count": null,
      "metadata": {
        "id": "OIqSAumd50Rs"
      },
      "outputs": [],
      "source": [
        "pos_freq_dist = freq_dist(training_pos_freq)\n",
        "neg_freq_dist = freq_dist(training_neg_freq)"
      ]
    },
    {
      "cell_type": "code",
      "execution_count": null,
      "metadata": {
        "id": "WYeTR_jG72qN"
      },
      "outputs": [],
      "source": [
        "bag_of_training_pos = most_frequent_words(pos_freq_dist, neg_freq_dist, 10)\n",
        "bag_of_training_neg = most_frequent_words(neg_freq_dist, pos_freq_dist, 10)"
      ]
    },
    {
      "cell_type": "code",
      "execution_count": null,
      "metadata": {
        "id": "TVVpMBjm74xJ",
        "colab": {
          "base_uri": "https://localhost:8080/"
        },
        "outputId": "10b6400d-a9d6-48bd-fc77-712e3637e793"
      },
      "outputs": [
        {
          "output_type": "stream",
          "name": "stdout",
          "text": [
            "10 content words which are representative of the positive reviews : \n",
            "['film', 'life', 'also', 'best', 'story', 'great', 'well', 'world', 'one', 'many']\n"
          ]
        }
      ],
      "source": [
        "print(f'10 content words which are representative of the positive reviews : \\n{bag_of_training_pos}')"
      ]
    },
    {
      "cell_type": "code",
      "execution_count": null,
      "metadata": {
        "id": "OIwfZNuq78BB",
        "colab": {
          "base_uri": "https://localhost:8080/"
        },
        "outputId": "881fcbdf-33d6-4aa0-a27b-188e185d62ff"
      },
      "outputs": [
        {
          "output_type": "stream",
          "name": "stdout",
          "text": [
            "10 content words which are representative of the negative reviews : \n",
            "['movie', 'bad', 'plot', 'worst', 'nothing', 'stupid', 'even', 'boring', 'script', 'could']\n"
          ]
        }
      ],
      "source": [
        "print(f'10 content words which are representative of the negative reviews : \\n{bag_of_training_neg}')"
      ]
    },
    {
      "cell_type": "markdown",
      "metadata": {
        "id": "Zljze_ZJ50Rt"
      },
      "source": [
        "Q1\n",
        "c) Explain what you have done and why   (self ref ### Exercise 3.3)\n",
        "\n",
        "As *training_data* cointains all the training sample these are either postive or negative.\n",
        "\n",
        "training_pos = positve reviews\n",
        "\n",
        "training_neg = negative reviews \n",
        "\n",
        "Many of the words in the representations of documents are punctuation and stopwords. This is because we haven't done any pre-processing of the wordlists.\n",
        "To efficienlty procesess the data i have used the following pre-processing steps to word list, *Stopword Removal* and *lowering* of words  (#don't actually need this as already lowered) this is stored as training_pos_freq and training_neg_freg. \n",
        "Using *NLTKs FreqDisk* method we get frequency distribution of poistive and negative wordlist. throught the *most_frequent_words* function we get diffrences between *pos_freq_dist* and *neg_freq_dist* this returns the most frequent postive and neagtive words in our case it returns K which is 10 in our case.\n",
        "\n",
        "\n",
        "To generate lists of 10 content words for negative and positive reviews from the training set, the training_data variable is used to generate positive content words which have labels as \"pos\" and negative content words which have labels as \"neg\". The dataset is then passed to the normalized_list(data, tag) with tags as \"pos\" and \"neg\" to generate respective lists. In order to obtain the representative content words, a frequency distribution for the respective training sets are created which are then passed through the function, above_threshold that gives us the difference between freq_dist_1 and freq_dist_2 (effectively creating a frequency distribution of first distribution with respect to the other). As mentioned in the question, only the 10 most representative words are needed from each list thus, the parameter k is set to 10 which returns the 10 most common words in the respective FreqDist\n",
        "\n",
        "\n",
        "  - `most_frequent_words` - this function should take THREE arguments: 2 frequency distributions and a natural number, k. It should order words by how much more they occur in one frequency distribution than the other.   It should then return the top k highest scoring words. You might want to use the `most_common` method from the `FreqDist` class - this returns a list of word, frequency pairs ordered by frequency.  You might also or alternatively want to use pythons built-in `sorted` function\n",
        "    - `words_above_threshold` - this function also takes three arguments: 2 frequency distributions and a natural number, k. Again, it should order words by how much more they occur in one distribution than the other.  It should return all of the words that have a score greater than k.\n"
      ]
    },
    {
      "cell_type": "markdown",
      "metadata": {
        "id": "TApOQE6vND20"
      },
      "source": [
        "2) \n",
        "a) **Use** the lists generated in Q1 to build a **word list classifier** which will classify reviews as being positive or negative.\n",
        "\n",
        "b) **Explain** what you have done.\n",
        "\n",
        "[12.5\\%]\n"
      ]
    },
    {
      "cell_type": "code",
      "execution_count": null,
      "metadata": {
        "id": "BThDMrcmODJy"
      },
      "outputs": [],
      "source": []
    },
    {
      "cell_type": "code",
      "source": [
        "class WordListClassifier(ClassifierI): \n",
        "  def __init__(self, pos, neg): \n",
        "        self._pos = pos \n",
        "        self._neg = neg \n",
        "\n",
        "  def classify(self, doc): \n",
        "        #doc is a FreqDist\n",
        "        score = 0\n",
        "        \n",
        "        # add code here that assigns an appropriate value to score\n",
        "        for word,value in doc.items():\n",
        "            if word in self._pos:\n",
        "                score+=value\n",
        "            if word in self._neg:\n",
        "                score-=value\n",
        "        \n",
        "        return \"neg\" if score < 0 else \"pos\" \n",
        "\n",
        "     ##we don't actually need to define the classify_many method as it is provided in ClassifierI\n",
        "    #def classify_many(self, docs): \n",
        "    #    return [self.classify(doc) for doc in docs] \n",
        "\n"
      ],
      "metadata": {
        "id": "CHaP8UUBNl9X"
      },
      "execution_count": null,
      "outputs": []
    },
    {
      "cell_type": "code",
      "execution_count": null,
      "metadata": {
        "id": "VMWNloG68yKV"
      },
      "outputs": [],
      "source": [
        "testing_norm = normalized_list(testing_data, '')\n",
        "test_cases, labels = zip(*testing_norm)"
      ]
    },
    {
      "cell_type": "code",
      "execution_count": null,
      "metadata": {
        "id": "zxlmfWOs81l8",
        "colab": {
          "base_uri": "https://localhost:8080/",
          "height": 35
        },
        "outputId": "ae93e09b-1214-4f97-bae4-020db5db361d"
      },
      "outputs": [
        {
          "output_type": "execute_result",
          "data": {
            "text/plain": [
              "'pos'"
            ],
            "application/vnd.google.colaboratory.intrinsic+json": {
              "type": "string"
            }
          },
          "metadata": {},
          "execution_count": 13
        }
      ],
      "source": [
        "WLC = WordListClassifier(bag_of_training_pos, bag_of_training_neg)\n",
        "pred = WLC.classify_many(test_cases)\n",
        "WLC.classify(FreqDist(\"This movie was great\".split()))\n",
        "# pred = WLC.classify_many(test_cases)"
      ]
    },
    {
      "cell_type": "code",
      "execution_count": null,
      "metadata": {
        "id": "V0LzdbTPARID",
        "colab": {
          "base_uri": "https://localhost:8080/",
          "height": 35
        },
        "outputId": "8c644987-bb43-427e-fb05-68048edf8d6b"
      },
      "outputs": [
        {
          "output_type": "execute_result",
          "data": {
            "text/plain": [
              "'neg'"
            ],
            "application/vnd.google.colaboratory.intrinsic+json": {
              "type": "string"
            }
          },
          "metadata": {},
          "execution_count": 14
        }
      ],
      "source": [
        "WLC.classify(FreqDist(\"This movie was nothing\".split()))"
      ]
    },
    {
      "cell_type": "code",
      "execution_count": null,
      "metadata": {
        "id": "76mPPpMQ_5bs"
      },
      "outputs": [],
      "source": [
        "#pred = WLC.classify_many(test_cases)"
      ]
    },
    {
      "cell_type": "markdown",
      "metadata": {
        "id": "B6xxvcyr50Rv"
      },
      "source": [
        "(using lab 3.1 for self ref)\n",
        "for class WordListClassifier will have two methods.\n",
        "method _init_ this funtion passes two arguments which are positive FreqDist() items and negative FreqDist() items then stores it respectivly in _pos and _neg variables\n",
        "\n",
        "classify this method is used to classify the FreqDist values which have been passed through by checking each word in the freqDist against the positive and negative FreqDist's which have been initialised previously. The following rules are used:\n",
        "\n",
        "*   If the score variable is greater than 0, the document is classified as \"pos\"\n",
        "*   If the score variable is less than 0, the document is classified as \"neg\".\n",
        "*   If the score variable is equal to 0, a random choice is made using random.choice.\n",
        "\n",
        "\n",
        "Each of the training_data samples are normalised and a frequency distribution of each is created. The test_cases variable contains all the frequency distribution of each sample and label contains their respective categories. The WordListClassifier is trained with the previously obtained bag_of_training_pos and bag_of_training_neg lists which contain positive and negative content words respectively.\n",
        "\n",
        "Finally, classifications of all samples in test_case are made and their predicted labels are stored in variable pred\n",
        "\n",
        "\n"
      ]
    },
    {
      "cell_type": "markdown",
      "metadata": {
        "id": "dL1iL9jg50Rv"
      },
      "source": [
        "3)\n",
        "a) **Calculate** the accuracy, precision, recall and F1 score of your classifier.\n",
        "\n",
        "b) Is it reasonable to evaluate the classifier in terms of its accuracy?  **Explain** your answer and give a counter-example (a scenario where it would / would not be reasonable to evaluate the classifier in terms of its accuracy).\n",
        "\n",
        "[20\\%]"
      ]
    },
    {
      "cell_type": "code",
      "execution_count": null,
      "metadata": {
        "id": "r1PrZnTe50Rw"
      },
      "outputs": [],
      "source": [
        "class ConfusionMatrix:\n",
        "    def __init__(self,predictions,goldstandard,classes=(\"pos\",\"neg\"), display = True):\n",
        "    \n",
        "        (self.c1,self.c2)=classes   #self.predictions=predictions\n",
        "        self.TP=0\n",
        "        self.FP=0\n",
        "        self.FN=0\n",
        "        self.TN=0\n",
        "        for p,g in zip(predictions,goldstandard):\n",
        "            if g==self.c1:\n",
        "                if p==self.c1:\n",
        "                    self.TP+=1\n",
        "                else:\n",
        "                    self.FN+=1\n",
        "        \n",
        "            elif p==self.c1:\n",
        "                self.FP+=1\n",
        "            else:\n",
        "                self.TN+=1\n",
        "        if display == True:\n",
        "            print(f'True positive (tp) : {self.TP}\\nFalse positive (fp) : {self.FP}\\nTrue Negative (tn) : {self.TN}\\nFalse negative (fn) : {self.FN}')\n",
        "    \n",
        "    def accuracy(self):       #put your code to compute accuracy here\n",
        "        self.acc = 0\n",
        "        self.acc = (self.TP+self.TN)/(self.TP+self.FP+self.FN+self.TN)\n",
        "        return self.acc\n",
        "    \n",
        "    def precision(self):    #put your code to compute precision here\n",
        "        self.p=0\n",
        "        self.p = self.TP/(self.TP+self.FP)\n",
        "        return self.p\n",
        "  \n",
        "    def recall(self):       #put your code to compute recall here\n",
        "        self.r=0\n",
        "        self.r = self.TP/(self.TP+self.FN)\n",
        "        return self.r\n",
        "  \n",
        "    def f1_score(self):     #put your code to compute f1 here\n",
        "        self.f1=0\n",
        "        self.f1 = 2*self.p*self.r/(self.p+self.r)\n",
        "        return self.f1 "
      ]
    },
    {
      "cell_type": "code",
      "execution_count": null,
      "metadata": {
        "id": "Uq4Fmr8S50Rx",
        "colab": {
          "base_uri": "https://localhost:8080/"
        },
        "outputId": "b4756885-b575-4824-8174-b9ffa0814278"
      },
      "outputs": [
        {
          "output_type": "stream",
          "name": "stdout",
          "text": [
            "True positive (tp) : 274\n",
            "False positive (fp) : 210\n",
            "True Negative (tn) : 90\n",
            "False negative (fn) : 26\n"
          ]
        }
      ],
      "source": [
        "WLC_CM = ConfusionMatrix(pred, labels)"
      ]
    },
    {
      "cell_type": "code",
      "execution_count": null,
      "metadata": {
        "id": "NJhRGovu50Ry",
        "colab": {
          "base_uri": "https://localhost:8080/",
          "height": 98
        },
        "outputId": "6c7e89f0-c4d8-44d5-e913-53c475dec8b2"
      },
      "outputs": [
        {
          "output_type": "stream",
          "name": "stdout",
          "text": [
            "Performance metrics of the wordlist classifier : \n"
          ]
        },
        {
          "output_type": "display_data",
          "data": {
            "text/plain": [
              "   Accuracy  Precision    Recall  F1 score\n",
              "0  0.606667   0.566116  0.913333   0.69898"
            ],
            "text/html": [
              "\n",
              "  <div id=\"df-aa43b614-0905-4238-9eb6-bbda234ff90b\">\n",
              "    <div class=\"colab-df-container\">\n",
              "      <div>\n",
              "<style scoped>\n",
              "    .dataframe tbody tr th:only-of-type {\n",
              "        vertical-align: middle;\n",
              "    }\n",
              "\n",
              "    .dataframe tbody tr th {\n",
              "        vertical-align: top;\n",
              "    }\n",
              "\n",
              "    .dataframe thead th {\n",
              "        text-align: right;\n",
              "    }\n",
              "</style>\n",
              "<table border=\"1\" class=\"dataframe\">\n",
              "  <thead>\n",
              "    <tr style=\"text-align: right;\">\n",
              "      <th></th>\n",
              "      <th>Accuracy</th>\n",
              "      <th>Precision</th>\n",
              "      <th>Recall</th>\n",
              "      <th>F1 score</th>\n",
              "    </tr>\n",
              "  </thead>\n",
              "  <tbody>\n",
              "    <tr>\n",
              "      <th>0</th>\n",
              "      <td>0.606667</td>\n",
              "      <td>0.566116</td>\n",
              "      <td>0.913333</td>\n",
              "      <td>0.69898</td>\n",
              "    </tr>\n",
              "  </tbody>\n",
              "</table>\n",
              "</div>\n",
              "      <button class=\"colab-df-convert\" onclick=\"convertToInteractive('df-aa43b614-0905-4238-9eb6-bbda234ff90b')\"\n",
              "              title=\"Convert this dataframe to an interactive table.\"\n",
              "              style=\"display:none;\">\n",
              "        \n",
              "  <svg xmlns=\"http://www.w3.org/2000/svg\" height=\"24px\"viewBox=\"0 0 24 24\"\n",
              "       width=\"24px\">\n",
              "    <path d=\"M0 0h24v24H0V0z\" fill=\"none\"/>\n",
              "    <path d=\"M18.56 5.44l.94 2.06.94-2.06 2.06-.94-2.06-.94-.94-2.06-.94 2.06-2.06.94zm-11 1L8.5 8.5l.94-2.06 2.06-.94-2.06-.94L8.5 2.5l-.94 2.06-2.06.94zm10 10l.94 2.06.94-2.06 2.06-.94-2.06-.94-.94-2.06-.94 2.06-2.06.94z\"/><path d=\"M17.41 7.96l-1.37-1.37c-.4-.4-.92-.59-1.43-.59-.52 0-1.04.2-1.43.59L10.3 9.45l-7.72 7.72c-.78.78-.78 2.05 0 2.83L4 21.41c.39.39.9.59 1.41.59.51 0 1.02-.2 1.41-.59l7.78-7.78 2.81-2.81c.8-.78.8-2.07 0-2.86zM5.41 20L4 18.59l7.72-7.72 1.47 1.35L5.41 20z\"/>\n",
              "  </svg>\n",
              "      </button>\n",
              "      \n",
              "  <style>\n",
              "    .colab-df-container {\n",
              "      display:flex;\n",
              "      flex-wrap:wrap;\n",
              "      gap: 12px;\n",
              "    }\n",
              "\n",
              "    .colab-df-convert {\n",
              "      background-color: #E8F0FE;\n",
              "      border: none;\n",
              "      border-radius: 50%;\n",
              "      cursor: pointer;\n",
              "      display: none;\n",
              "      fill: #1967D2;\n",
              "      height: 32px;\n",
              "      padding: 0 0 0 0;\n",
              "      width: 32px;\n",
              "    }\n",
              "\n",
              "    .colab-df-convert:hover {\n",
              "      background-color: #E2EBFA;\n",
              "      box-shadow: 0px 1px 2px rgba(60, 64, 67, 0.3), 0px 1px 3px 1px rgba(60, 64, 67, 0.15);\n",
              "      fill: #174EA6;\n",
              "    }\n",
              "\n",
              "    [theme=dark] .colab-df-convert {\n",
              "      background-color: #3B4455;\n",
              "      fill: #D2E3FC;\n",
              "    }\n",
              "\n",
              "    [theme=dark] .colab-df-convert:hover {\n",
              "      background-color: #434B5C;\n",
              "      box-shadow: 0px 1px 3px 1px rgba(0, 0, 0, 0.15);\n",
              "      filter: drop-shadow(0px 1px 2px rgba(0, 0, 0, 0.3));\n",
              "      fill: #FFFFFF;\n",
              "    }\n",
              "  </style>\n",
              "\n",
              "      <script>\n",
              "        const buttonEl =\n",
              "          document.querySelector('#df-aa43b614-0905-4238-9eb6-bbda234ff90b button.colab-df-convert');\n",
              "        buttonEl.style.display =\n",
              "          google.colab.kernel.accessAllowed ? 'block' : 'none';\n",
              "\n",
              "        async function convertToInteractive(key) {\n",
              "          const element = document.querySelector('#df-aa43b614-0905-4238-9eb6-bbda234ff90b');\n",
              "          const dataTable =\n",
              "            await google.colab.kernel.invokeFunction('convertToInteractive',\n",
              "                                                     [key], {});\n",
              "          if (!dataTable) return;\n",
              "\n",
              "          const docLinkHtml = 'Like what you see? Visit the ' +\n",
              "            '<a target=\"_blank\" href=https://colab.research.google.com/notebooks/data_table.ipynb>data table notebook</a>'\n",
              "            + ' to learn more about interactive tables.';\n",
              "          element.innerHTML = '';\n",
              "          dataTable['output_type'] = 'display_data';\n",
              "          await google.colab.output.renderOutput(dataTable, element);\n",
              "          const docLink = document.createElement('div');\n",
              "          docLink.innerHTML = docLinkHtml;\n",
              "          element.appendChild(docLink);\n",
              "        }\n",
              "      </script>\n",
              "    </div>\n",
              "  </div>\n",
              "  "
            ]
          },
          "metadata": {}
        }
      ],
      "source": [
        "metrics_wordlist_classifier = {\"Accuracy\" : WLC_CM.accuracy(), \"Precision\" : WLC_CM.precision(), \"Recall\" : WLC_CM.recall(), \"F1 score\" : WLC_CM.f1_score()}\n",
        "df1 = pd.DataFrame(metrics_wordlist_classifier, index = [0])\n",
        "print(\"Performance metrics of the wordlist classifier : \")\n",
        "display(df1)"
      ]
    },
    {
      "cell_type": "markdown",
      "metadata": {
        "id": "0gHYwj0i50Ry"
      },
      "source": [
        "3(b) using lab 3.2 exercise 2.1 for self ref\n",
        "It is not possible to evaluate a classifier effectively by focusing simply on accuracy. Accuracy is not always reliable and be misleading.The further you get from 50/50, the more accuracy misleads. For instance, a model can predict the value of the majority class for all predictions and obtain a high classification accuracy in a problem with a significant class imbalance. Additional performance metrics, such as the F1 score and Brier score, are therefore required. So, further performance measures are needed such as F1 score, precistion Recall.\n",
        "\n",
        "DataSet ; class balanced \n",
        "\n",
        "It works great if there are an equal number of samples for each class. For example, we have 90% sample of class A and 10% sample of class B in our training set. Then, our model will predict with the accuracy of 90% by predicting all the training samples belongs to class A.\n",
        "\n",
        "\n",
        "\n",
        "\n",
        "DataSet ; class imbalanced \n",
        "Consider a dataset with a 99:1 split of negatives to positives. Simply guessing the majority class yields a 99% accurate classifier. Another example When classes are unbalanced, evaluating classifiers in terms of accuracy can be misleading.  For example, if 10% of documents are relevant and 90% of documents are irrelevant, then a classifier which labels all documents as irrelevant will obtain an accuracy of 90%.  This sounds good but is actually useless. More useful metrics for evaluation of performance are precision, recall and F1 score.  These metrics allow us to distinguish the different types of errors our classifiers make."
      ]
    },
    {
      "cell_type": "markdown",
      "metadata": {
        "id": "c74BIeN6URye"
      },
      "source": [
        "\n",
        "For each class, $c$, we need to keep a record of \n",
        "* True Positives: $TP=|\\{i|\\mbox{prediction}(i)=\\mbox{label}(i)=c\\}|$\n",
        "* False Negatives: $FN=|\\{i|\\mbox{prediction}(i)\\neq \\mbox{label}(i)=c\\}|$\n",
        "* False Positives: $FP=|\\{i|\\mbox{label}(i) \\neq \\mbox{prediction}(i)=c\\}|$\n",
        "* True Negatives: $TN=|\\{i|\\mbox{prediction}(i)=\\mbox{label}(i)\\neq c\\}|$\n",
        "\n",
        "Note the symmetry in the binary classification task (the TN for one class are the TP for the other class and so on).  Therefore, in binary classification, we just record these values and compute the following evaluation metrics for a single class (e.g. \"Relevant\" or \"Positive\")\n",
        "\n",
        "* Precision: \n",
        "\\begin{eqnarray*}\n",
        "P=\\frac{TP}{TP+FP}\n",
        "\\end{eqnarray*}\n",
        "* Recall: \n",
        "\\begin{eqnarray*}\n",
        "R=\\frac{TP}{TP+FN}\n",
        "\\end{eqnarray*}\n",
        "* F1-score: \n",
        "\\begin{eqnarray*}\n",
        "F1 = \\frac{2\\times P\\times R}{P+R}\n",
        "\\end{eqnarray*}\n",
        "\n",
        "\n",
        "\n"
      ]
    },
    {
      "cell_type": "markdown",
      "metadata": {
        "id": "LIS9UpmJNEAp"
      },
      "source": [
        "4) \n",
        "a)  **Construct** a Naive Bayes classifier (e.g., from NLTK).\n",
        "\n",
        "b)  **Compare** the performance of your word list classifier with the Naive Bayes classifier.  **Discuss** your results. \n",
        "\n",
        "[12.5\\%]"
      ]
    },
    {
      "cell_type": "code",
      "execution_count": null,
      "metadata": {
        "id": "hG4DSeqD50Rz"
      },
      "outputs": [],
      "source": [
        "nb_training_data = normalized_list(training_data, '')"
      ]
    },
    {
      "cell_type": "markdown",
      "metadata": {
        "id": "VzPcOOnIs8Il"
      },
      "source": []
    },
    {
      "cell_type": "code",
      "execution_count": null,
      "metadata": {
        "id": "56_oD8ET50Rz"
      },
      "outputs": [],
      "source": [
        "from nltk.classify import NaiveBayesClassifier\n",
        "\n",
        "NLTK_NB = NaiveBayesClassifier.train(nb_training_data)"
      ]
    },
    {
      "cell_type": "code",
      "execution_count": null,
      "metadata": {
        "id": "dNMGu3dh_Ojy",
        "colab": {
          "base_uri": "https://localhost:8080/",
          "height": 199
        },
        "outputId": "6835a534-5790-4fa9-db65-f86322b02fc4"
      },
      "outputs": [
        {
          "output_type": "stream",
          "name": "stdout",
          "text": [
            "True positive (tp) : 291\n",
            "False positive (fp) : 187\n",
            "True Negative (tn) : 113\n",
            "False negative (fn) : 9\n",
            "Performance metrics of wordlist and Naive Nayes classifier : \n"
          ]
        },
        {
          "output_type": "display_data",
          "data": {
            "text/plain": [
              "   Accuracy  Precision    Recall  F1 score\n",
              "0  0.606667   0.566116  0.913333  0.698980\n",
              "1  0.673333   0.608787  0.970000  0.748072"
            ],
            "text/html": [
              "\n",
              "  <div id=\"df-adf5ec71-0acc-48b9-bef1-ebf0b01961eb\">\n",
              "    <div class=\"colab-df-container\">\n",
              "      <div>\n",
              "<style scoped>\n",
              "    .dataframe tbody tr th:only-of-type {\n",
              "        vertical-align: middle;\n",
              "    }\n",
              "\n",
              "    .dataframe tbody tr th {\n",
              "        vertical-align: top;\n",
              "    }\n",
              "\n",
              "    .dataframe thead th {\n",
              "        text-align: right;\n",
              "    }\n",
              "</style>\n",
              "<table border=\"1\" class=\"dataframe\">\n",
              "  <thead>\n",
              "    <tr style=\"text-align: right;\">\n",
              "      <th></th>\n",
              "      <th>Accuracy</th>\n",
              "      <th>Precision</th>\n",
              "      <th>Recall</th>\n",
              "      <th>F1 score</th>\n",
              "    </tr>\n",
              "  </thead>\n",
              "  <tbody>\n",
              "    <tr>\n",
              "      <th>0</th>\n",
              "      <td>0.606667</td>\n",
              "      <td>0.566116</td>\n",
              "      <td>0.913333</td>\n",
              "      <td>0.698980</td>\n",
              "    </tr>\n",
              "    <tr>\n",
              "      <th>1</th>\n",
              "      <td>0.673333</td>\n",
              "      <td>0.608787</td>\n",
              "      <td>0.970000</td>\n",
              "      <td>0.748072</td>\n",
              "    </tr>\n",
              "  </tbody>\n",
              "</table>\n",
              "</div>\n",
              "      <button class=\"colab-df-convert\" onclick=\"convertToInteractive('df-adf5ec71-0acc-48b9-bef1-ebf0b01961eb')\"\n",
              "              title=\"Convert this dataframe to an interactive table.\"\n",
              "              style=\"display:none;\">\n",
              "        \n",
              "  <svg xmlns=\"http://www.w3.org/2000/svg\" height=\"24px\"viewBox=\"0 0 24 24\"\n",
              "       width=\"24px\">\n",
              "    <path d=\"M0 0h24v24H0V0z\" fill=\"none\"/>\n",
              "    <path d=\"M18.56 5.44l.94 2.06.94-2.06 2.06-.94-2.06-.94-.94-2.06-.94 2.06-2.06.94zm-11 1L8.5 8.5l.94-2.06 2.06-.94-2.06-.94L8.5 2.5l-.94 2.06-2.06.94zm10 10l.94 2.06.94-2.06 2.06-.94-2.06-.94-.94-2.06-.94 2.06-2.06.94z\"/><path d=\"M17.41 7.96l-1.37-1.37c-.4-.4-.92-.59-1.43-.59-.52 0-1.04.2-1.43.59L10.3 9.45l-7.72 7.72c-.78.78-.78 2.05 0 2.83L4 21.41c.39.39.9.59 1.41.59.51 0 1.02-.2 1.41-.59l7.78-7.78 2.81-2.81c.8-.78.8-2.07 0-2.86zM5.41 20L4 18.59l7.72-7.72 1.47 1.35L5.41 20z\"/>\n",
              "  </svg>\n",
              "      </button>\n",
              "      \n",
              "  <style>\n",
              "    .colab-df-container {\n",
              "      display:flex;\n",
              "      flex-wrap:wrap;\n",
              "      gap: 12px;\n",
              "    }\n",
              "\n",
              "    .colab-df-convert {\n",
              "      background-color: #E8F0FE;\n",
              "      border: none;\n",
              "      border-radius: 50%;\n",
              "      cursor: pointer;\n",
              "      display: none;\n",
              "      fill: #1967D2;\n",
              "      height: 32px;\n",
              "      padding: 0 0 0 0;\n",
              "      width: 32px;\n",
              "    }\n",
              "\n",
              "    .colab-df-convert:hover {\n",
              "      background-color: #E2EBFA;\n",
              "      box-shadow: 0px 1px 2px rgba(60, 64, 67, 0.3), 0px 1px 3px 1px rgba(60, 64, 67, 0.15);\n",
              "      fill: #174EA6;\n",
              "    }\n",
              "\n",
              "    [theme=dark] .colab-df-convert {\n",
              "      background-color: #3B4455;\n",
              "      fill: #D2E3FC;\n",
              "    }\n",
              "\n",
              "    [theme=dark] .colab-df-convert:hover {\n",
              "      background-color: #434B5C;\n",
              "      box-shadow: 0px 1px 3px 1px rgba(0, 0, 0, 0.15);\n",
              "      filter: drop-shadow(0px 1px 2px rgba(0, 0, 0, 0.3));\n",
              "      fill: #FFFFFF;\n",
              "    }\n",
              "  </style>\n",
              "\n",
              "      <script>\n",
              "        const buttonEl =\n",
              "          document.querySelector('#df-adf5ec71-0acc-48b9-bef1-ebf0b01961eb button.colab-df-convert');\n",
              "        buttonEl.style.display =\n",
              "          google.colab.kernel.accessAllowed ? 'block' : 'none';\n",
              "\n",
              "        async function convertToInteractive(key) {\n",
              "          const element = document.querySelector('#df-adf5ec71-0acc-48b9-bef1-ebf0b01961eb');\n",
              "          const dataTable =\n",
              "            await google.colab.kernel.invokeFunction('convertToInteractive',\n",
              "                                                     [key], {});\n",
              "          if (!dataTable) return;\n",
              "\n",
              "          const docLinkHtml = 'Like what you see? Visit the ' +\n",
              "            '<a target=\"_blank\" href=https://colab.research.google.com/notebooks/data_table.ipynb>data table notebook</a>'\n",
              "            + ' to learn more about interactive tables.';\n",
              "          element.innerHTML = '';\n",
              "          dataTable['output_type'] = 'display_data';\n",
              "          await google.colab.output.renderOutput(dataTable, element);\n",
              "          const docLink = document.createElement('div');\n",
              "          docLink.innerHTML = docLinkHtml;\n",
              "          element.appendChild(docLink);\n",
              "        }\n",
              "      </script>\n",
              "    </div>\n",
              "  </div>\n",
              "  "
            ]
          },
          "metadata": {}
        }
      ],
      "source": [
        "NB_CM = ConfusionMatrix(NLTK_NB.classify_many(test_cases), labels ,classes=('pos','neg'))\n",
        "metrics_NB_classifier = {\"Accuracy\" : NB_CM.accuracy(), \"Precision\" : NB_CM.precision(), \"Recall\" : NB_CM.recall(), \"F1 score\" : NB_CM.f1_score()}\n",
        "\n",
        "print(\"Performance metrics of wordlist and Naive Nayes classifier : \")\n",
        "df1 = df1.append(metrics_NB_classifier, True)\n",
        "display(df1)"
      ]
    },
    {
      "cell_type": "markdown",
      "metadata": {
        "id": "xfuYer9U50Rz"
      },
      "source": [
        "b)  **Compare** the performance of your word list classifier with the Naive Bayes classifier.  **Discuss** your results. \n",
        "\n",
        "Naive Bayes Classifier appears to be a better classifier than my wordList classifier, producing higher accuraccy, precision, recall values and F1 score.\n",
        "\n",
        "Performance metrics of the wordlist classifier : \n",
        "\n",
        "* There were an overall of 274 movie reviews which belonged to the positive class and were predicted positive Tp and 90 movie reviews belonged to the negative class and were predicted correctly Tn.\n",
        "* An overall of 210 movie reviews belonged to negative class but were classified as positive Fp while, 26 movie reviews belonging to the positive class was classified as negative Fn.\n",
        "\n",
        "*   Accuraccy                         = 0.606667\n",
        "\n",
        "\n",
        "* Precision: \n",
        "\\begin{eqnarray*}\n",
        "P=\\frac{TP}{TP+FP}                     =0.566116\n",
        "\\end{eqnarray*}\n",
        "* Recall: \n",
        "\\begin{eqnarray*}\n",
        "R=\\frac{TP}{TP+FN}                     = 0.913333\n",
        "\\end{eqnarray*}\n",
        "* F1-score: \n",
        "\\begin{eqnarray*}\n",
        "F1 = \\frac{2\\times P\\times R}{P+R}      = 0.698980\n",
        "\\end{eqnarray*}\n",
        "\n",
        "\n",
        "Performance metrics of Nayes classifier :\n",
        "\n",
        "*   Accuraccy                         = 0.673333\n",
        "\n",
        "\n",
        "* Precision: \n",
        "\\begin{eqnarray*}\n",
        "P=\\frac{TP}{TP+FP}                     =0.608787\n",
        "\\end{eqnarray*}\n",
        "* Recall: \n",
        "\\begin{eqnarray*}\n",
        "R=\\frac{TP}{TP+FN}                     = 0.970000\n",
        "\\end{eqnarray*}\n",
        "* F1-score: \n",
        "\\begin{eqnarray*}\n",
        "F1 = \\frac{2\\times P\\times R}{P+R}      = 0.748072\n",
        "\\end{eqnarray*}\n",
        "\n",
        "\n",
        "* There were an overall of 291 movie reviews which belonged to the positive class and were predicted positive Tp and 113 movie reviews belonged to the negative class and were predicted correctly Tn.\n",
        "* An overall of 187 movie reviews belonged to negative class but were classified as positive fp while, 9 movie reviews belonging to the positive class were classified as negative Fn.\n",
        "\n",
        "conclusion \n",
        "All the metrices have diffrent values and scores.To be more specific, the Naive Bayes classifier predicted a higher number of positively labelled movie reviews than the Wordlist classifier. However, the Wordlist classifier was better at predicting negatively labelled movie reviews, but had a significantly higher total number of incorrectly predicted reviews. In terms of the above metrics, the Naive Bayes classifier outperformed the Wordlist classifier in terms of accuracy, precision, recall, and F1 score.\n"
      ]
    },
    {
      "cell_type": "markdown",
      "metadata": {
        "id": "LGDXaVDqOSfY"
      },
      "source": [
        "5) \n",
        "a) Design and **carry out an experiment** into the impact of the **length of the wordlists** on the wordlist classifier.  Make sure you **describe** design decisions in your experiment, include a **graph** of your results and **discuss** your conclusions. \n",
        "\n",
        "b) Would you **recommend** a wordlist classifier or a Naive Bayes classifier for future work in this area?  **Justify** your answer.\n",
        "\n",
        "[25\\%]\n"
      ]
    },
    {
      "cell_type": "markdown",
      "metadata": {
        "id": "5PVBBPhh50R0"
      },
      "source": []
    },
    {
      "cell_type": "code",
      "execution_count": null,
      "metadata": {
        "id": "9tBhqZtw50R1"
      },
      "outputs": [],
      "source": [
        "metrics = []\n",
        "for i in range(10, 10000, 100):\n",
        "    bag_of_training_pos_ = most_frequent_words(pos_freq_dist, neg_freq_dist, i)\n",
        "    bag_of_training_neg_ = most_frequent_words(neg_freq_dist, pos_freq_dist, i)\n",
        "    WLC_ = WordListClassifier(bag_of_training_pos_, bag_of_training_neg_)\n",
        "    pred_ = WLC_.classify_many(test_cases)\n",
        "    WLC_CM_ = ConfusionMatrix(pred_, labels, display = False)\n",
        "    metrics.append([i, (WLC_CM_.accuracy(), WLC_CM_.precision(), WLC_CM_.recall(), WLC_CM_.f1_score())])"
      ]
    },
    {
      "cell_type": "code",
      "execution_count": null,
      "metadata": {
        "id": "J1ozKYMa50R1",
        "colab": {
          "base_uri": "https://localhost:8080/",
          "height": 677
        },
        "outputId": "7f6c3a81-e77b-45a8-d774-df81c3c8f4e1"
      },
      "outputs": [
        {
          "output_type": "display_data",
          "data": {
            "text/plain": [
              "<Figure size 1008x720 with 4 Axes>"
            ],
            "image/png": "[encoded data removed]"
          },
          "metadata": {
            "needs_background": "light"
          }
        }
      ],
      "source": [
        "fig, ax = plt.subplots(2, 2, figsize = (14, 10))\n",
        "ax[0, 0].plot([i[0] for i in metrics], [i[1][0] for i in metrics], c = 'red')\n",
        "ax[0, 0].set_title('Length of wordlists vs Accuracy')\n",
        "ax[0, 0].set(xlabel = 'Length of Wordlist', ylabel = 'Accuracy')\n",
        "\n",
        "ax[0, 1].plot([i[0] for i in metrics], [i[1][1] for i in metrics], c = 'blue')\n",
        "ax[0, 1].set_title('Length of wordlists vs Precision')\n",
        "ax[0, 1].set(xlabel = 'Length of Wordlist', ylabel = 'Precision')\n",
        "\n",
        "ax[1, 0].plot([i[0] for i in metrics], [i[1][2] for i in metrics], c = 'green')\n",
        "ax[1, 0].set_title('Length of wordlists vs Recall')\n",
        "ax[1, 0].set(xlabel = 'Length of Wordlist', ylabel = 'Recall')\n",
        "\n",
        "ax[1, 1].plot([i[0] for i in metrics], [i[1][3] for i in metrics], c = 'pink')\n",
        "ax[1, 1].set_title('Length of wordlists vs F1 score')\n",
        "ax[1, 1].set(xlabel = 'Length of Wordlist', ylabel = 'F1 score')\n",
        "\n",
        "fig.suptitle('Performance metrics for variation in length of wordlist')\n",
        "plt.show()"
      ]
    },
    {
      "cell_type": "code",
      "execution_count": null,
      "metadata": {
        "id": "vzN_HIuC50R1"
      },
      "outputs": [],
      "source": []
    },
    {
      "cell_type": "markdown",
      "metadata": {
        "id": "nYZVd15L50R2"
      },
      "source": [
        "\n",
        "5) \n",
        "a) Design and **carry out an experiment** into the impact of the **length of the wordlists** on the wordlist classifier.  Make sure you **describe** design decisions in your experiment, include a **graph** of your results and **discuss** your conclusions. \n",
        "\n",
        "**Ans 5 (a)\n",
        "* From the above graphs, it can be seen that as the length of the wordlists increases, the classifier initially reaches a peak accuracy peak of almost 62%, after which the accuracy decreases. This is due to the fact that when the classifier is trained, the words of the two classes \"pos\" and \"neg\" overlap. When a larger number of frequent words are used in word list generation, the same words occur in different classes, which leads to ambiguity in predicting the output. For the same reason, the precision of the classifier also decreases (after it reaches its maximum value of 57%), as it is not able to make correct positive predictions for positively marked movie reviews \n",
        "* the recall of the classifier shows a steep increase at first, then rises slightly and remains quite stable at almost 98.5%.\n",
        "* Since the classifier has medium-low precision and high recall, the F1 score is used to measure its performance. As with all other metrics, the F1 score shows a sharp increase until it peaks at almost 72%, after which it drops steeply to 69% and then drops to 68%. Although the F1 values do not show much change, the range of variation is only 3%/4%.\n",
        "* Thus, determining the k most frequent words with which to train the classifier remains crucial and forms the backbone of the classifier. Ideally, the k value should be much smaller than the total size of the word list, since above a certain threshold, the words in both word lists start to influence each other and create ambiguity during classification. From the above diagrams, it can be seen that a k value of almost 100 would be very efficient for classification.\n",
        "\n",
        "\n",
        "\n",
        "b) Would you **recommend** a wordlist classifier or a Naive Bayes classifier for future work in this area?  **Justify** your answer.\n",
        " \n",
        " \n",
        "Intro \n",
        "Naïve Bayes is based on probability assuming relevance and wordlist is formed on frequency.\n",
        "\n",
        "\n",
        "A wordlist classifier is a very basic classification technique that relies on the frequency of words in both negative and positive wordlists and fails to account for the relative number of words in relationship to a set of datasets, producing inaccurate metrices in many cases.\n",
        "\n",
        "Naive Bayes \n",
        "\n",
        "pro\n",
        "\n",
        "The Naïve Bayes algorithm quickly predicts the class of the test data set. Moreover, it also performs accurately in a multi-class prediction scenario.\n",
        "Efficient, not biased by outliers, works on non – linear problems, probabilistic approach.\n",
        "\n",
        "cons\n",
        "Perform very poorly when features are highly\n",
        "correlated\n",
        "\n",
        "Based on the assumption that the features have same statistical relevance.\n",
        "\n",
        "\n",
        "Conclution :\n",
        "\n",
        "When we use an assumption of independence, a Naive Bayes classifier performs better than other models like WordList Classifer. It works with fewer training data too. Common applications of Naive Bayes algorithm are Google in Spam filtering of Gmail when reciving emails. Considering all the above I highly recommend Naïve Bayes Classifiers over my wordlist classifiers, while researching about different machine learning algorithms Classification, Naïve Bayes Algorithm is better than many other a classifier. It belongs to the supervised learning algorithm category and is a simple classification algorithm that improves the development of fast machine learning models capable of making quick predictions. As mentioned previously it predicts based on the probability of an object known as a probabilistic classifier."
      ]
    },
    {
      "cell_type": "code",
      "execution_count": null,
      "metadata": {
        "id": "PtqCcG6wPsmf",
        "colab": {
          "base_uri": "https://localhost:8080/"
        },
        "outputId": "d94506eb-8789-4252-b483-ef1f334de4bb"
      },
      "outputs": [
        {
          "output_type": "stream",
          "name": "stdout",
          "text": [
            "Drive already mounted at /content/drive; to attempt to forcibly remount, call drive.mount(\"/content/drive\", force_remount=True).\n"
          ]
        }
      ],
      "source": [
        "from google.colab import drive\n",
        "drive.mount('/content/drive')"
      ]
    },
    {
      "cell_type": "code",
      "execution_count": null,
      "metadata": {
        "id": "34rdlS_iPov6",
        "colab": {
          "base_uri": "https://localhost:8080/"
        },
        "outputId": "e56f6032-bc51-4cf6-9468-204fc5fcdbee"
      },
      "outputs": [
        {
          "output_type": "stream",
          "name": "stdout",
          "text": [
            "Submission length is 1951\n"
          ]
        }
      ],
      "source": [
        "##This code will word count all of the markdown cells in the notebook saved at filepath\n",
        "##Running it before providing any answers shows that the questions have a word count of 437\n",
        "## self ref (chicken 36) \n",
        "\n",
        "import io\n",
        "from nbformat import current\n",
        "\n",
        "filepath=\"/content/drive/My Drive/NLassignment2022.ipynb\"\n",
        "#filepath=\"NLassignment2022.ipynb\"\n",
        "question_count=437\n",
        "\n",
        "with io.open(filepath, 'r', encoding='utf-8') as f:\n",
        "    nb = current.read(f, 'json')\n",
        "\n",
        "word_count = 0\n",
        "for cell in nb.worksheets[0].cells:\n",
        "    if cell.cell_type == \"markdown\":\n",
        "        word_count += len(cell['source'].replace('#', '').lstrip().split(' '))\n",
        "print(\"Submission length is {}\".format(word_count-question_count))"
      ]
    }
  ],
  "metadata": {
    "colab": {
      "provenance": [],
      "collapsed_sections": []
    },
    "kernelspec": {
      "display_name": "Python 3",
      "language": "python",
      "name": "python3"
    },
    "language_info": {
      "codemirror_mode": {
        "name": "ipython",
        "version": 3
      },
      "file_extension": ".py",
      "mimetype": "text/x-python",
      "name": "python",
      "nbconvert_exporter": "python",
      "pygments_lexer": "ipython3",
      "version": "3.7.4"
    }
  },
  "nbformat": 4,
  "nbformat_minor": 0
}
